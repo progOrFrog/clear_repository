{
 "cells": [
  {
   "cell_type": "markdown",
   "id": "0a4e54ef",
   "metadata": {
    "toc": true
   },
   "source": [
    "<h1>Table of Contents<span class=\"tocSkip\"></span></h1>\n",
    "<div class=\"toc\"><ul class=\"toc-item\"><li><span><a href=\"#Задача-1\" data-toc-modified-id=\"Задача-1-1\"><span class=\"toc-item-num\">1&nbsp;&nbsp;</span>Задача 1</a></span></li><li><span><a href=\"#Задача-2\" data-toc-modified-id=\"Задача-2-2\"><span class=\"toc-item-num\">2&nbsp;&nbsp;</span>Задача 2</a></span></li><li><span><a href=\"#Задача-3\" data-toc-modified-id=\"Задача-3-3\"><span class=\"toc-item-num\">3&nbsp;&nbsp;</span>Задача 3</a></span></li></ul></div>"
   ]
  },
  {
   "cell_type": "markdown",
   "id": "e269be2a",
   "metadata": {},
   "source": [
    "## Задача 1"
   ]
  },
  {
   "cell_type": "markdown",
   "id": "9d1a0370",
   "metadata": {},
   "source": [
    "Дано масив цілих чисел nums, відсортований у порядку зростання, і ціле число n. Напишіть функцію для пошуку n в nums. Якщо ціль існує, поверніть її індекс. В іншому випадку поверніть -1.\n",
    "\n",
    "Ви повинні написати алгоритм зі складністю виконання O(log n).\n",
    "\n",
    "Приклад 1:\n",
    "\n",
    "Вхідні дані: nums = [-1,0,3,5,9,12], n = 9\n",
    "Вихід: 4\n",
    "Пояснення: 9 існує в nums, і його індекс дорівнює 4\n",
    "\n",
    "Приклад 2:\n",
    "\n",
    "Вхідні дані: nums = [-1,0,3,5,9,12], n = 2\n",
    "Вихід: -1\n",
    "Пояснення: 2 не існує в nums, тому поверніть -1"
   ]
  },
  {
   "cell_type": "code",
   "execution_count": 13,
   "id": "9260cf18",
   "metadata": {},
   "outputs": [
    {
     "name": "stdout",
     "output_type": "stream",
     "text": [
      "1\n"
     ]
    }
   ],
   "source": [
    "def binary_search(nums, n):\n",
    "  low = 0\n",
    "  high = len(nums) - 1\n",
    "\n",
    "  while low <= high:\n",
    "    a = (low + high) // 2\n",
    "\n",
    "    if nums[a] == n:\n",
    "      return a\n",
    "    elif nums[a] < n:\n",
    "      low = a + 1\n",
    "    else:\n",
    "      high = a - 1\n",
    "\n",
    "  return f\"{n} немає в списку\"\n",
    "\n",
    "\n",
    "nums = [-1,0,3,5,9,12]\n",
    "n = 0\n",
    "\n",
    "index = binary_search(nums, n)\n",
    "\n",
    "print(index)\n",
    "\n"
   ]
  },
  {
   "cell_type": "markdown",
   "id": "2d3c2b95",
   "metadata": {},
   "source": [
    "## Задача 2"
   ]
  },
  {
   "cell_type": "markdown",
   "id": "3fc7608a",
   "metadata": {},
   "source": [
    "Дано стрічку s, знайти довжину найдовшої підстрічки без повторення символів.\n",
    "\n",
    "Приклад 1:\n",
    "\n",
    "Вхід: s = \"abcabcbb\"\n",
    "Вихід: 3\n",
    "Пояснення: відповідь «abc», довжина якого дорівнює 3."
   ]
  },
  {
   "cell_type": "code",
   "execution_count": 36,
   "id": "d0f09a54",
   "metadata": {},
   "outputs": [
    {
     "name": "stdout",
     "output_type": "stream",
     "text": [
      "4\n"
     ]
    }
   ],
   "source": [
    "def longest_substring(s):\n",
    "  start = 0\n",
    "  end = 0\n",
    "  longest_length = 0\n",
    "  cur_set = set()\n",
    "  while end < len(s):\n",
    "    if s[end] not in cur_set:\n",
    "      cur_set.add(s[end])\n",
    "      end += 1\n",
    "      longest_length = max(longest_length, end - start)\n",
    "    else:\n",
    "      cur_set.remove(s[start])\n",
    "      start += 1\n",
    "  return longest_length\n",
    "\n",
    "\n",
    "s = \"abcabcdbbcd\"\n",
    "length = longest_substring(s)\n",
    "print(length)\n",
    "\n"
   ]
  },
  {
   "cell_type": "markdown",
   "id": "f9461096",
   "metadata": {},
   "source": [
    "## Задача 3"
   ]
  },
  {
   "cell_type": "markdown",
   "id": "57f0530a",
   "metadata": {},
   "source": [
    "Дано цілочисельний масив nums унікальних елементів, повернути всі можливі підмножини (набір потужностей).\n",
    "Набір рішень не повинен містити повторюваних підмножин. \n",
    "\n",
    "Приклад 1:\n",
    "\n",
    "Вхідні дані: nums = [1,2,3]\n",
    "Вихід: [[],[1],[2],[1,2],[3],[1,3],[2,3],[1,2,3]]"
   ]
  },
  {
   "cell_type": "code",
   "execution_count": 35,
   "id": "6452d5c8",
   "metadata": {},
   "outputs": [
    {
     "name": "stdout",
     "output_type": "stream",
     "text": [
      "[[], [1], [2], [1, 2], [3], [1, 3], [2, 3], [1, 2, 3], [4], [1, 4], [2, 4], [1, 2, 4], [3, 4], [1, 3, 4], [2, 3, 4], [1, 2, 3, 4]]\n"
     ]
    }
   ],
   "source": [
    "def power_set(nums):\n",
    "  subsets = [[]]\n",
    "  for num in nums:\n",
    "    for subset in subsets:\n",
    "      if num not in subset:\n",
    "        new_subset = subset + [num]\n",
    "        subsets.append(new_subset)\n",
    "  return subsets\n",
    "  \n",
    "nums = [1,2,3,4]\n",
    "subsets = power_set(nums)\n",
    "print(subsets)\n"
   ]
  }
 ],
 "metadata": {
  "kernelspec": {
   "display_name": "Python 3 (ipykernel)",
   "language": "python",
   "name": "python3"
  },
  "language_info": {
   "codemirror_mode": {
    "name": "ipython",
    "version": 3
   },
   "file_extension": ".py",
   "mimetype": "text/x-python",
   "name": "python",
   "nbconvert_exporter": "python",
   "pygments_lexer": "ipython3",
   "version": "3.10.11"
  },
  "toc": {
   "base_numbering": 1,
   "nav_menu": {},
   "number_sections": true,
   "sideBar": true,
   "skip_h1_title": false,
   "title_cell": "Table of Contents",
   "title_sidebar": "Contents",
   "toc_cell": true,
   "toc_position": {
    "height": "calc(100% - 180px)",
    "left": "10px",
    "top": "150px",
    "width": "165px"
   },
   "toc_section_display": true,
   "toc_window_display": true
  }
 },
 "nbformat": 4,
 "nbformat_minor": 5
}
